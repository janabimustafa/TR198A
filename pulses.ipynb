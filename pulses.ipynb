{
 "cells": [
  {
   "cell_type": "code",
   "execution_count": 22,
   "id": "3926fc89",
   "metadata": {},
   "outputs": [],
   "source": [
    "from broadlink import remote\n",
    "import statistics as st\n",
    "\n"
   ]
  },
  {
   "cell_type": "code",
   "execution_count": 23,
   "id": "50209036",
   "metadata": {},
   "outputs": [],
   "source": [
    "\n",
    "def _threshold(data):\n",
    "    \"\"\"Return a good short/long threshold for Broadlink pulses.\"\"\"\n",
    "    data = sorted(data)\n",
    "    if len(data) < 4:                      # too few samples → fallback\n",
    "        return st.median(data)\n",
    "\n",
    "    # two -cluster split: lower ⅓ vs upper ⅔\n",
    "    q1, q2 = st.quantiles(data, n=3)\n",
    "    return (q1 + q2) / 2                  # mid-point between the clusters\n",
    "def manchester_decode(durations, gap=2000):\n",
    "    \"\"\"Return (bitstring, start_index) from a raw Broadlink pulse list.\"\"\"\n",
    "    DATA = [t for t in durations if t < gap]          # 1. cut inter-frame gaps\n",
    "    if len(DATA) < 4:\n",
    "        raise ValueError(\"Not enough data after gap-filtering\")\n",
    "\n",
    "    THR     = _threshold(DATA)                        # 2. quantise\n",
    "    symbols = ['S' if t < THR else 'L' for t in DATA]\n",
    "\n",
    "    # 3. auto-resync\n",
    "    bits, i = [], 0\n",
    "    while i + 1 < len(symbols):\n",
    "        a, b = symbols[i], symbols[i + 1]\n",
    "\n",
    "        if a == b:            # LL or SS → still in leader or a timing glitch\n",
    "            i += 1            # shift by one symbol and try again\n",
    "            continue\n",
    "\n",
    "        bits.append('0' if (a, b) == ('S', 'L') else '1')\n",
    "        i += 2\n",
    "\n",
    "    return ''.join(bits), i"
   ]
  },
  {
   "cell_type": "code",
   "execution_count": 21,
   "id": "b0500b32",
   "metadata": {},
   "outputs": [
    {
     "data": {
      "text/plain": [
       "'101011000100001001100000001010110001000010011000000010101100'"
      ]
     },
     "execution_count": 21,
     "metadata": {},
     "output_type": "execute_result"
    }
   ],
   "source": [
    "bits, start = manchester_decode(remote.data_to_pulses(raw))\n",
    "bits[0:56+4]"
   ]
  }
 ],
 "metadata": {
  "kernelspec": {
   "display_name": ".venv",
   "language": "python",
   "name": "python3"
  },
  "language_info": {
   "codemirror_mode": {
    "name": "ipython",
    "version": 3
   },
   "file_extension": ".py",
   "mimetype": "text/x-python",
   "name": "python",
   "nbconvert_exporter": "python",
   "pygments_lexer": "ipython3",
   "version": "3.13.3"
  }
 },
 "nbformat": 4,
 "nbformat_minor": 5
}
