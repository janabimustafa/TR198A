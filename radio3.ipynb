{
 "cells": [
  {
   "cell_type": "code",
   "execution_count": 333,
   "id": "c6664548",
   "metadata": {},
   "outputs": [
    {
     "name": "stdout",
     "output_type": "stream",
     "text": [
      "My pulses: 1336916, 92805, 755, 394, 755, 755, 394, 394, 755, 755, 394, 394, 755, 755, 394, 755, 394, 394, 755, 755, 394, 394, 755, 755, 394, 394, 755, 394, 755, 755, 394, 394, 755, 394, 755, 394, 755, 755, 394, 394, 755, 755, 394, 394, 755, 755, 394, 394, 755, 394, 755, 11822, 394, 755, 394, 394, 755, 394, 755, 755, 394, 394, 755, 755, 394, 394, 755, 755, 394, 755, 394, 394, 755, 755, 394, 394, 755, 755, 394, 394, 755, 394, 755, 755, 394, 394, 755, 394, 755, 394, 755, 755, 394, 394, 755, 755, 394, 394, 755, 755, 394, 394, 755, 394, 755, 11822, 394, 755, 394, 394, 755, 394, 755, 755, 394, 394, 755, 755, 394, 394, 755, 755, 394, 755, 394, 394, 755, 755, 394, 394, 755, 755, 394, 394, 755, 394, 755, 755, 394, 394, 755, 394, 755, 394, 755, 755, 394, 394, 755, 755, 394, 394, 755, 755, 394, 394, 755, 394, 755, 394, \n",
      "My pulses: 1336916, 92805, 755, 394, 755, 755, 394, 394, 755, 755, 394, 394, 755, 755, 394, 755, 394, 394, 755, 755, 394, 394, 755, 755, 394, 394, 755, 394, 755, 755, 394, 755, 394, 755, 394, 755, 394, 755, 394, 394, 755, 394, 755, 394, 755, 394, 755, 394, 755, 394, 755, 11822, 394, 755, 394, 394, 755, 394, 755, 755, 394, 394, 755, 755, 394, 394, 755, 755, 394, 755, 394, 394, 755, 755, 394, 394, 755, 755, 394, 394, 755, 394, 755, 755, 394, 755, 394, 755, 394, 755, 394, 755, 394, 394, 755, 394, 755, 394, 755, 394, 755, 394, 755, 394, 755, 11822, 394, 755, 394, 394, 755, 394, 755, 755, 394, 394, 755, 755, 394, 394, 755, 755, 394, 755, 394, 394, 755, 755, 394, 394, 755, 755, 394, 394, 755, 394, 755, 755, 394, 755, 394, 755, 394, 755, 394, 755, 394, 394, 755, 394, 755, 394, 755, 394, 755, 394, 755, 394, 755, 11822, 394, 755, 394, 394, 755, 394, 755, 755, 394, 394, 755, 755, 394, 394, 755, 755, 394, 755, 394, 394, 755, 755, 394, 394, 755, 755, 394, 394, 755, 394, 755, 755, 394, 755, 394, 755, 394, 755, 394, 755, 394, 394, 755, 394, 755, 394, 755, 394, 755, 394, 755, 394, 755, 11822, 394, 755, 394, 394, 755, 394, 755, 755, 394, 394, 755, 755, 394, 394, 755, 755, 394, 755, 394, 394, 755, 755, 394, 394, 755, 755, 394, 394, 755, 394, 755, 755, 394, 755, 394, 755, 394, 755, 394, 755, 394, 394, 755, 394, 755, 394, 755, 394, 755, 394, 755, 394, 755, 11822, 394, 755, 394, 394, 755, 394, 755, 755, 394, 394, 755, 755, 394, 394, 755, 755, 394, 755, 394, 394, 755, 755, 394, 394, 755, 755, 394, 394, 755, 394, 755, 755, 394, 755, 394, 755, 394, 755, 394, 755, 394, 394, 755, 394, 755, 394, 755, 394, 755, 394, 755, 394, 755, 11822, 394, 755, 394, 394, 755, 394, 755, 755, 394, 394, 755, 755, 394, 394, 755, 755, 394, 755, 394, 394, 755, 755, 394, 394, 755, 755, 394, 394, 755, 394, 755, 755, 394, 755, 394, 755, 394, 755, 394, 755, 394, 394, 755, 394, 755, 394, 755, 394, 755, 394, 755, 394, 755, 11822, 394, 755, 394, 394, 755, 394, 755, 755, 394, 394, 755, 755, 394, 394, 755, 755, 394, 755, 394, 394, 755, 755, 394, 394, 755, 755, 394, 394, 755, 394, 755, 755, 394, 755, 394, 755, 394, 755, 394, 755, 394, 394, 755, 394, 755, 394, 755, 394, 755, 394, 755, 394, 755, 11822, 394, 755, 394, 394, 755, 394, 755, 755, 394, 394, 755, 755, 394, 394, 755, 755, 394, 755, 394, 394, 755, 755, 394, 394, 755, 755, 394, 394, 755, 394, 755, 755, 394, 755, 394, 755, 394, 755, 394, 755, 394, 394, 755, 394, 755, 394, 755, 394, 755, 394, 755, 394, 755, 11822, 394, 755, 394, 394, 755, 394, 755, 755, 394, 394, 755, 755, 394, 394, 755, 755, 394, 755, 394, 394, 755, 755, 394, 394, 755, 755, 394, 394, 755, 394, 755, 755, 394, 755, 394, 755, 394, 755, 394, 755, 394, 394, 755, 394, 755, 394, 755, 394, 755, 394, 755, 394, 755, \n",
      "My command: 0xb2, 0xef, 0xa8, 0x00, 0x00, 0x9f, 0x06, 0x00, 0x0b, 0x0a, 0x17, 0x0c, 0x17, 0x17, 0x0c, 0x0c, 0x17, 0x17, 0x0c, 0x0c, 0x17, 0x17, 0x0c, 0x17, 0x0c, 0x0c, 0x17, 0x17, 0x0c, 0x0c, 0x17, 0x17, 0x0c, 0x0c, 0x17, 0x0c, 0x17, 0x17, 0x0c, 0x0c, 0x17, 0x0c, 0x17, 0x0c, 0x17, 0x17, 0x0c, 0x0c, 0x17, 0x17, 0x0c, 0x0c, 0x17, 0x17, 0x0c, 0x0c, 0x17, 0x0c, 0x17, 0x00, 0x01, 0x68, 0x0c, 0x17, 0x0c, 0x0c, 0x17, 0x0c, 0x17, 0x17, 0x0c, 0x0c, 0x17, 0x17, 0x0c, 0x0c, 0x17, 0x17, 0x0c, 0x17, 0x0c, 0x0c, 0x17, 0x17, 0x0c, 0x0c, 0x17, 0x17, 0x0c, 0x0c, 0x17, 0x0c, 0x17, 0x17, 0x0c, 0x0c, 0x17, 0x0c, 0x17, 0x0c, 0x17, 0x17, 0x0c, 0x0c, 0x17, 0x17, 0x0c, 0x0c, 0x17, 0x17, 0x0c, 0x0c, 0x17, 0x0c, 0x17, 0x00, 0x01, 0x68, 0x0c, 0x17, 0x0c, 0x0c, 0x17, 0x0c, 0x17, 0x17, 0x0c, 0x0c, 0x17, 0x17, 0x0c, 0x0c, 0x17, 0x17, 0x0c, 0x17, 0x0c, 0x0c, 0x17, 0x17, 0x0c, 0x0c, 0x17, 0x17, 0x0c, 0x0c, 0x17, 0x0c, 0x17, 0x17, 0x0c, 0x0c, 0x17, 0x0c, 0x17, 0x0c, 0x17, 0x17, 0x0c, 0x0c, 0x17, 0x17, 0x0c, 0x0c, 0x17, 0x17, 0x0c, 0x0c, 0x17, 0x0c, 0x17, 0x0c, \n",
      "Broadlink packet (172 bytes):\n",
      "b2efa800009f06000b0a170c17170c0c17170c0c17170c170c0c17170c0c17170c0c170c17170c0c170c170c17170c0c17170c0c17170c0c170c170001680c170c0c170c17170c0c17170c0c17170c170c0c17170c0c17170c0c170c17170c0c170c170c17170c0c17170c0c17170c0c170c170001680c170c0c170c17170c0c17170c0c17170c170c0c17170c0c17170c0c170c17170c0c170c170c17170c0c17170c0c17170c0c170c170c\n"
     ]
    }
   ],
   "source": [
    "\"\"\"\n",
    "Build Broadlink RM-series RF packets (433 MHz).\n",
    "\n",
    "Usage\n",
    "-----\n",
    "from broadlink_rf_builder import build_rf_packet\n",
    "\n",
    "# fan remote — needs an extra 92 805 µs 'tiny gap':\n",
    "packet = build_rf_packet(\n",
    "    \"10101101010010001010100\",\n",
    "    initial_gap_us=92_805       # <-- here\n",
    ")\n",
    "device.send_data(packet)\n",
    "\"\"\"\n",
    "\n",
    "from __future__ import annotations\n",
    "from typing import Iterable, List, Sequence, Union\n",
    "\n",
    "TICK_US = 32.84                      # Broadlink time-unit\n",
    "\n",
    "# -------------- handset-style defaults (override per call) ----------\n",
    "HEADER_RF_433    = b\"\\xB2\"\n",
    "MARK0_US, SPACE0_US = 394, 755       # 0 bit  (12 u, 23 u)\n",
    "MARK1_US, SPACE1_US = 755, 394       # 1 bit  (23 u, 12 u)\n",
    "LEAD_IN_US           = 1_336_916\n",
    "INITIAL_GAP_US       = 92_805             # <-- 92_805 for your fan\n",
    "FIRST_PREAMBLE_US = (\n",
    "    MARK1_US, SPACE1_US,  # 0\n",
    "    MARK1_US              # 1    → pattern “110” (sync, 1 bit)\n",
    ")\n",
    "PREAMBLE_US          = (\n",
    "    MARK1_US, SPACE1_US,  # 1\n",
    "    MARK0_US, SPACE0_US,  # 0\n",
    "    MARK0_US, SPACE0_US,  # 0  -> pattern “100” (sync)\n",
    ")\n",
    "INTER_GAP_US         = (11_822, SPACE1_US)  # 50 ms between repeats\n",
    "TRAILER_US           = 49_260\n",
    "REPEATS              = 5\n",
    "# --------------------------------------------------------------------\n",
    "\n",
    "\n",
    "def _ceil_tick(us: float) -> int:\n",
    "    return int(round(us / TICK_US))\n",
    "\n",
    "\n",
    "def _normalise_to_bits(src: Union[str, bytes, bytearray, Sequence[int]]) -> str:\n",
    "    if isinstance(src, str):\n",
    "        s = src.strip().lower().replace(\"0x\", \"\")\n",
    "        return s if set(s) <= {\"0\", \"1\"} else bin(int(s, 16))[2:]\n",
    "    if isinstance(src, (bytes, bytearray)):\n",
    "        iterable: Iterable[int] = src\n",
    "    else:\n",
    "        iterable = src\n",
    "    return \"\".join(f\"{b:08b}\" for b in iterable)\n",
    "\n",
    "\n",
    "def _bits_to_pulses(bits: str,\n",
    "                    mark0: int, space0: int,\n",
    "                    mark1: int, space1: int) -> List[int]:\n",
    "    out: List[int] = []\n",
    "    for bit in bits:\n",
    "        out += (mark0, space0) if bit == \"0\" else (mark1, space1)\n",
    "    return out\n",
    "\n",
    "\n",
    "def _encode(pulses_us: Sequence[int], repeat: int) -> bytearray:\n",
    "    buf = bytearray(b\"\\x26\\x00\\x00\\x00\")           # IR placeholder\n",
    "    for us in pulses_us:\n",
    "        t = _ceil_tick(us)\n",
    "        if t >= 256:\n",
    "            buf += b\"\\x00\" + t.to_bytes(2, \"big\")\n",
    "        else:\n",
    "            buf.append(t)\n",
    "    buf[2:4] = (len(buf) - 4).to_bytes(2, \"little\")\n",
    "    buf[0] = 0xB2                      # flip to RF\n",
    "    buf[1] = repeat.to_bytes(1, \"little\")[0]  # repeat count\n",
    "    return buf\n",
    "\n",
    "def build_rf_packet(\n",
    "    payload: Union[str, bytes, bytearray, Sequence[int]],\n",
    "    *,\n",
    "    pair: bool = False,  # whether to use pair inter-gap\n",
    "    repeats: int = REPEATS,\n",
    "    lead_in_us: int = LEAD_IN_US,\n",
    "    initial_gap_us: int = INITIAL_GAP_US,         # <─ tiny gap lives here\n",
    "    inter_gap_us: Sequence[int] = INTER_GAP_US,\n",
    "    trailer_us: int = TRAILER_US,\n",
    "    mark0_us: int = MARK0_US, space0_us: int = SPACE0_US,\n",
    "    mark1_us: int = MARK1_US, space1_us: int = SPACE1_US,\n",
    "    first_preamble_us: Sequence[int] = FIRST_PREAMBLE_US,\n",
    "    preamble_us: Sequence[int] = PREAMBLE_US,\n",
    "    \n",
    ") -> bytes:\n",
    "    \"\"\"Return a Broadlink RF packet ready for ``device.send_data()``.\"\"\"\n",
    "    bits   = _normalise_to_bits(payload)\n",
    "    frame  = _bits_to_pulses(bits,\n",
    "                                mark0_us, space0_us,\n",
    "                                mark1_us, space1_us)\n",
    "\n",
    "    pulses = [lead_in_us]\n",
    "    if initial_gap_us:\n",
    "        pulses.append(initial_gap_us)\n",
    "    pulses +=  list(first_preamble_us) + frame\n",
    "\n",
    "    for i in range(repeats - 1):\n",
    "        pulses += list(inter_gap_us) + list(preamble_us) + frame\n",
    "    if not pair:\n",
    "        pulses.append(trailer_us)\n",
    "    print(\"My pulses:\", \"\".join(str(b) + ', ' for b in pulses))\n",
    "\n",
    "    return bytes(_encode(pulses, 0xC9 if pair else 0xEF))  # 0xC1 for pairing, 0xC0 for normal\n",
    "def build_pair_packet(payload: Union[str, bytes, bytearray, Sequence[int]],\n",
    "):\n",
    "    \"\"\"Build a pairing packet with the default parameters.\"\"\"\n",
    "    return build_rf_packet(\n",
    "        payload,\n",
    "        pair=True,                   # pairing mode\n",
    "        repeats=10,                  # number of repeats\n",
    "    )\n",
    "# ---------------- example usage ------------------------------------\n",
    "LIGHT_ON_BITSTRING = \"10101101010010001010100\"\n",
    "DIM_UP_BITSTRING = \"10101101010010000010010\"\n",
    "TEST_BITSTRING = \"10101101010011111000000\"\n",
    "packet = build_rf_packet(LIGHT_ON_BITSTRING, repeats=3, trailer_us=394)         # almost no tail)\n",
    "pairing_packet = build_rf_packet(TEST_BITSTRING, pair=True, repeats=10)\n",
    "print(\"My command:\", \"\".join('0x'+format(b, '02x')+', ' for b in packet))\n",
    "\n",
    "\n",
    "print(f\"Broadlink packet ({len(packet)} bytes):\\n{packet.hex()}\")\n",
    "# device.send_data(packet)   # uncomment when you have the device instance"
   ]
  },
  {
   "cell_type": "code",
   "execution_count": 335,
   "id": "87e83c3d",
   "metadata": {},
   "outputs": [
    {
     "data": {
      "text/plain": [
       "broadlink.remote.rm4pro(('192.168.1.89', 80), mac=b'\\xe8pr\\x08l\\xf1', devtype=21003, timeout=10, name='Rm4 pro', model='RM4 pro', manufacturer='Broadlink', is_locked=False)"
      ]
     },
     "execution_count": 335,
     "metadata": {},
     "output_type": "execute_result"
    }
   ],
   "source": [
    "import broadlink\n",
    "device = broadlink.hello(\"192.168.1.89\")\n",
    "device.auth()\n",
    "device"
   ]
  },
  {
   "cell_type": "code",
   "execution_count": 336,
   "id": "74c22ba7",
   "metadata": {},
   "outputs": [],
   "source": [
    "# for i in range(25): \n",
    "device.send_data(packet)   # uncomment when you have the device instance"
   ]
  },
  {
   "cell_type": "code",
   "execution_count": 300,
   "id": "9e3b84c1",
   "metadata": {},
   "outputs": [],
   "source": [
    "device.send_data(pairing_packet)  # send the first packet"
   ]
  },
  {
   "cell_type": "code",
   "execution_count": 157,
   "id": "19a5a5cf",
   "metadata": {},
   "outputs": [
    {
     "name": "stdout",
     "output_type": "stream",
     "text": [
      "Integer 9 as byte: b'\\t'\n"
     ]
    }
   ],
   "source": [
    "# integer to byte\n",
    "num = 9\n",
    "print(f\"Integer {num} as byte: {num.to_bytes(1, 'little')}\")"
   ]
  }
 ],
 "metadata": {
  "kernelspec": {
   "display_name": ".venv",
   "language": "python",
   "name": "python3"
  },
  "language_info": {
   "codemirror_mode": {
    "name": "ipython",
    "version": 3
   },
   "file_extension": ".py",
   "mimetype": "text/x-python",
   "name": "python",
   "nbconvert_exporter": "python",
   "pygments_lexer": "ipython3",
   "version": "3.13.3"
  }
 },
 "nbformat": 4,
 "nbformat_minor": 5
}
