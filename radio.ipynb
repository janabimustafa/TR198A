{
 "cells": [
  {
   "cell_type": "code",
   "execution_count": 25,
   "id": "931ec6e2",
   "metadata": {},
   "outputs": [],
   "source": [
    "import broadlink\n",
    "import broadlink.remote as remote\n",
    "import base64\n",
    "import statistics\n",
    "import collections\n",
    "import matplotlib.pyplot as plt"
   ]
  },
  {
   "cell_type": "code",
   "execution_count": 26,
   "id": "a7fb5b64",
   "metadata": {},
   "outputs": [],
   "source": [
    "sample_radio_command_b64 = \"sMC6A2ibBgAMChYVCwoXFAwKFhULFQsKFwkXChYVCwoWChYLFQsVFgsKFgoVFwoLFRYLChYKFRYLCxUAAUYKFgkMFRYKCxUXCgsVFgoWCgsVCxULFhYKCxULFQsWCxUWBw4VCxYVCgsVFgsLFRYLChYKFQABRgsWCgsVFgoLFRYLChYWChYKCxUJFwsVFgsLFQsVCxULFRYLCxULFRYKCxUWCgoXFgoLFQkXAAFGChcKChYWCgsVFgoLFRYKFgsLFQsVCxUWCgsWChYLFQsVFgoLFQsVFwoLFRYKCxUWCgsVDBUAAUYKFgoLFRYKCxYWCgsVFgoWCgsWChUMFRYKCxULFQsWChYWCgsVCxUUDAwUFwkMFRYKCxULFQABRQsVCwwVFQsLFRULCxUVDBULCxULFQsVFQsLFgoWCxULFRULCxUMFRULCxUVCwsVFgsKFgsVAAFFCxULCxYUDAoWFQsLFRULFQwKFgsVCxUVCwsVCxULFQwVFQsLFQsVFQsMFRQMCxUVCwsVCxUAAUUMFAwLFRULCxUVCwsVFgsVCwsVCxULFRULDBULFQsVCxUWCgsVDBUVCwsVFQsLFRUMCxULFQABRQsVCwoWFQsKFxULChYVCxULChcJFwkXFQsKFgoWChcJFhYLChYKFhULChYVDAoWFQsKFgsVAAFFCxULCxYVCwoWFQsKFxQMFQsKFgoWChYVCwoXChYKFgoWFQsKFgoWFgsKFhULChYVCwoWCxYAAUULFQsKFhULChcVCwoWFQsVCwoWChcKFhULChYKFgoWChcVCwoWChYVCwoWFQsLFhULChYKFgABRQwUCwoWFgoLFhULChYVDBQMCRYLFgoWFQsKFgsWChULFRYLChYLFRYLChUWCwoWFQsKFwoWAAFFChYKCxUWCgsWFQsLFRYKFgoLFgoWCxUWCgsVCxULFgsVFgoLFQsVFgoLFhYKCxUWCgsVCxUAAUYLFgoLFRYKCxUWCgsWFQsWCgsVCxULFRYLCxULFQsVCxUWCgsWCxUWCgsVFgoLFRcJDBULFQABRgoWCgsVFgsKFhYKCxUWCxUKCxUMFQsVFgoLFQsVDBQMFRYKCxULFRYLChYWCgsVFgoLFQsWAAFFChYLCxUVCwsWFQsLFRULFQsLFQsVCxYUDAsVCxULFQsVFQsMFQsVFgoLFRULCxUWCwsVCxUAAUULFQsLFhULCxUVCwsVFQsVCwwVCxULFRULCxULFgsVCxUVCwsVCxUVDAoWFQsLFRULCxYKFgAF3A==\"\n",
    "sample_radio_command = base64.b64decode(sample_radio_command_b64)"
   ]
  },
  {
   "cell_type": "code",
   "execution_count": 27,
   "id": "ba4ec3ff",
   "metadata": {},
   "outputs": [
    {
     "data": {
      "text/plain": [
       "broadlink.remote.rm4pro(('192.168.1.89', 80), mac=b'\\xe8pr\\x08l\\xf1', devtype=21003, timeout=10, name='Rm4 pro', model='RM4 pro', manufacturer='Broadlink', is_locked=False)"
      ]
     },
     "execution_count": 27,
     "metadata": {},
     "output_type": "execute_result"
    }
   ],
   "source": [
    "device = broadlink.hello(\"192.168.1.89\")\n",
    "device.auth()\n",
    "device"
   ]
  },
  {
   "cell_type": "code",
   "execution_count": 28,
   "id": "699f46e3",
   "metadata": {},
   "outputs": [
    {
     "name": "stdout",
     "output_type": "stream",
     "text": [
      "[689, 361, 328, 755, 656, 394, 328, 722, 689, 361, 689, 361, 328, 755, 295, 755, 328, 722, 689, 361, 328, 722, 328, 722, 361, 689, 361, 689, 722, 361, 328, 722, 328, 689, 755, 328, 361, 689, 722, 361, 328, 722, 328, 689, 722, 361, 361, 689, 10705, 328, 722, 295, 394, 689, 722, 328, 361, 689, 755, 328, 361, 689, 722, 328, 722, 328, 361, 689, 361, 689, 361, 722, 722, 328, 361, 689, 361, 689, 361, 722, 361, 689, 722, 229, 459, 689, 361, 722, 689, 328, 361, 689, 722, 361, 361, 689, 722, 361, 328, 722, 328, 689, 10705, 361, 722, 328, 361, 689, 722, 328, 361, 689, 722, 361, 328, 722, 722, 328, 722, 328, 361, 689, 295, 755, 361, 689, 722, 361, 361, 689, 361, 689, 361, 689, 361, 689, 722, 361, 361, 689, 361, 689, 722, 328, 361, 689, 722, 328, 328, 755, 722, 328, 361, 689, 295, 755, 10705, 328, 755, 328, 328, 722, 722, 328, 361, 689, 722, 328, 361, 689, 722, 328, 722, 361, 361, 689, 361, 689, 361, 689, 722, 328, 361, 722, 328, 722, 361, 689, 361, 689, 722, 328, 361, 689, 361, 689, 755, 328, 361, 689, 722, 328, 361, 689, 722, 328, 361, 689, 394, 689, 10705, 328, 722, 328, 361, 689, 722, 328, 361, 722, 722, 328, 361, 689, 722, 328, 722, 328, 361, 722, 328, 689, 394, 689, 722, 328, 361, 689, 361, 689, 361, 722, 328, 722, 722, 328, 361, 689, 361, 689, 656, 394, 394, 656, 755, 295, 394, 689, 722, 328, 361, 689, 361, 689, 10673, 361, 689, 361, 394, 689, 689, 361, 361, 689, 689, 361, 361, 689, 689, 394, 689, 361, 361, 689, 361, 689, 361, 689, 689, 361, 361, 722, 328, 722, 361, 689, 361, 689, 689, 361, 361, 689, 394, 689, 689, 361, 361, 689, 689, 361, 361, 689, 722, 361, 328, 722, 361, 689, 10673, 361, 689, 361, 361, 722, 656, 394, 328, 722, 689, 361, 361, 689, 689, 361, 689, 394, 328, 722, 361, 689, 361, 689, 689, 361, 361, 689, 361, 689, 361, 689, 394, 689, 689, 361, 361, 689, 361, 689, 689, 361, 394, 689, 656, 394, 361, 689, 689, 361, 361, 689, 361, 689, 10673, 394, 656, 394, 361, 689, 689, 361, 361, 689, 689, 361, 361, 689, 722, 361, 689, 361, 361, 689, 361, 689, 361, 689, 689, 361, 394, 689, 361, 689, 361, 689, 361, 689, 722, 328, 361, 689, 394, 689, 689, 361, 361, 689, 689, 361, 361, 689, 689, 394, 361, 689, 361, 689, 10673, 361, 689, 361, 328, 722, 689, 361, 328, 755, 689, 361, 328, 722, 689, 361, 689, 361, 328, 755, 295, 755, 295, 755, 689, 361, 328, 722, 328, 722, 328, 755, 295, 722, 722, 361, 328, 722, 328, 722, 689, 361, 328, 722, 689, 394, 328, 722, 689, 361, 328, 722, 361, 689, 10673, 361, 689, 361, 361, 722, 689, 361, 328, 722, 689, 361, 328, 755, 656, 394, 689, 361, 328, 722, 328, 722, 328, 722, 689, 361, 328, 755, 328, 722, 328, 722, 328, 722, 689, 361, 328, 722, 328, 722, 722, 361, 328, 722, 689, 361, 328, 722, 689, 361, 328, 722, 361, 722, 10673, 361, 689, 361, 328, 722, 689, 361, 328, 755, 689, 361, 328, 722, 689, 361, 689, 361, 328, 722, 328, 755, 328, 722, 689, 361, 328, 722, 328, 722, 328, 722, 328, 755, 689, 361, 328, 722, 328, 722, 689, 361, 328, 722, 689, 361, 361, 722, 689, 361, 328, 722, 328, 722, 10673, 394, 656, 361, 328, 722, 722, 328, 361, 722, 689, 361, 328, 722, 689, 394, 656, 394, 295, 722, 361, 722, 328, 722, 689, 361, 328, 722, 361, 722, 328, 689, 361, 689, 722, 361, 328, 722, 361, 689, 722, 361, 328, 689, 722, 361, 328, 722, 689, 361, 328, 755, 328, 722, 10673, 328, 722, 328, 361, 689, 722, 328, 361, 722, 689, 361, 361, 689, 722, 328, 722, 328, 361, 722, 328, 722, 361, 689, 722, 328, 361, 689, 361, 689, 361, 722, 361, 689, 722, 328, 361, 689, 361, 689, 722, 328, 361, 722, 722, 328, 361, 689, 722, 328, 361, 689, 361, 689, 10705, 361, 722, 328, 361, 689, 722, 328, 361, 689, 722, 328, 361, 722, 689, 361, 722, 328, 361, 689, 361, 689, 361, 689, 722, 361, 361, 689, 361, 689, 361, 689, 361, 689, 722, 328, 361, 722, 361, 689, 722, 328, 361, 689, 722, 328, 361, 689, 755, 295, 394, 689, 361, 689, 10705, 328, 722, 328, 361, 689, 722, 361, 328, 722, 722, 328, 361, 689, 722, 361, 689, 328, 361, 689, 394, 689, 361, 689, 722, 328, 361, 689, 361, 689, 394, 656, 394, 689, 722, 328, 361, 689, 361, 689, 722, 361, 328, 722, 722, 328, 361, 689, 722, 328, 361, 689, 361, 722, 10673, 328, 722, 361, 361, 689, 689, 361, 361, 722, 689, 361, 361, 689, 689, 361, 689, 361, 361, 689, 361, 689, 361, 722, 656, 394, 361, 689, 361, 689, 361, 689, 361, 689, 689, 361, 394, 689, 361, 689, 722, 328, 361, 689, 689, 361, 361, 689, 722, 361, 361, 689, 361, 689, 10673, 361, 689, 361, 361, 722, 689, 361, 361, 689, 689, 361, 361, 689, 689, 361, 689, 361, 394, 689, 361, 689, 361, 689, 689, 361, 361, 689, 361, 722, 361, 689, 361, 689, 689, 361, 361, 689, 361, 689, 689, 394, 328, 722, 689, 361, 361, 689, 689, 361, 361, 722, 328, 722, 49260]\n"
     ]
    },
    {
     "data": {
      "image/png": "[encoded data removed]",
      "text/plain": [
       "<Figure size 1000x500 with 1 Axes>"
      ]
     },
     "metadata": {},
     "output_type": "display_data"
    }
   ],
   "source": [
    "pulses = remote.data_to_pulses(sample_radio_command)\n",
    "pulses = pulses[5:] # skip the first 5 pulses which are usually noise\n",
    "bins = collections.Counter(round(t/50)*50 for t in pulses)  # bucket by 50 µs\n",
    "#filter out pulses too long\n",
    "bins = {k: v for k, v in bins.items() if k < 2000}  # filter out pulses longer than 10 ms\n",
    "print(pulses)\n",
    "plt.figure(figsize=(10, 5))\n",
    "plt.bar(bins.keys(), bins.values())\n",
    "plt.xlabel(\"µs\")\n",
    "plt.ylabel(\"count\")\n",
    "plt.title(\"Radio Command Pulse Lengths\")\n",
    "plt.show()\n"
   ]
  },
  {
   "cell_type": "code",
   "execution_count": 29,
   "id": "3494c01c",
   "metadata": {},
   "outputs": [
    {
     "name": "stdout",
     "output_type": "stream",
     "text": [
      "short ≈ 350 µs   long ≈ 700 µs   threshold = 525 µs\n"
     ]
    }
   ],
   "source": [
    "# ------------------------------------------------------------------\n",
    "# 2.  Auto-detect “short” and “long” pulse widths\n",
    "# ------------------------------------------------------------------\n",
    "# Keep only pulses in a plausible OOK range (skip huge sync gaps)\n",
    "candidates = [p for p in pulses if 100 < p < 2_000]\n",
    "\n",
    "# Bucket the pulses in 50-µs bins so tiny jitter doesn’t fragment counts\n",
    "bucketed = [round(p/50)*50 for p in candidates]\n",
    "\n",
    "# Get the two most common bucket centres\n",
    "most_common_two = collections.Counter(bucketed).most_common(2)\n",
    "if len(most_common_two) < 2:\n",
    "    raise RuntimeError(\"Could not find two distinct pulse widths\")\n",
    "\n",
    "# Sort so short_us < long_us\n",
    "(short_us, _), (long_us, _) = sorted(most_common_two, key=lambda kv: kv[0])\n",
    "\n",
    "threshold = (short_us + long_us) / 2      # midpoint for classifying marks/spaces\n",
    "print(f\"short ≈ {short_us} µs   long ≈ {long_us} µs   threshold = {threshold:.0f} µs\")"
   ]
  },
  {
   "cell_type": "code",
   "execution_count": null,
   "id": "1dcfde9b",
   "metadata": {},
   "outputs": [
    {
     "name": "stdout",
     "output_type": "stream",
     "text": [
      "Bits collected: 456\n",
      "[1, 0, 1, 0, 1, 1, 0, 0, 0, 1, 0, 0, 0, 0, 1, 0, 0, 1, 0, 1, 0, 0, 1, 0, 1, 1, 0, 1, 0, 1, 0, 1, 1, 0, 0, 0, 1, 0, 0, 0, 0, 1, 0, 0, 1, 0, 1, 0, 1, 0, 0, 1, 1, 0, 1, 0, 1, 0, 1, 1, 0, 0, 0, 1, 0, 0, 0, 0, 1, 0, 0, 1, 0, 1, 0, 1, 0, 0, 1, 1, 0, 1, 0, 1, 0, 1, 1, 0, 0, 0, 1, 0, 0, 0, 0, 1, 0, 0, 1, 0, 1, 0, 1, 0, 0, 1, 1, 0, 1, 0, 1, 0, 1, 1, 0, 0, 0, 1, 0, 0, 0, 0, 1, 0, 0, 1, 0, 1, 0, 1, 0, 0, 1, 1, 0, 1, 0, 1, 0, 1, 1, 0, 0, 0, 1, 0, 0, 0, 0, 1, 0, 0, 1, 0, 1, 0, 1, 0, 0, 1, 1, 0, 1, 0, 1, 0, 1, 1, 0, 0, 0, 1, 0, 0, 0, 0, 1, 0, 0, 1, 0, 1, 0, 1, 0, 0, 1, 1, 0, 1, 0, 1, 0, 1, 1, 0, 0, 0, 1, 0, 0, 0, 0, 1, 0, 0, 1, 0, 1, 0, 1, 0, 0, 1, 1, 0, 1, 0, 1, 0, 1, 1, 0, 0, 0, 1, 0, 0, 0, 0, 1, 0, 0, 1, 0, 1, 0, 1, 0, 0, 1, 1, 0, 1, 0, 1, 0, 1, 1, 0, 0, 0, 1, 0, 0, 0, 0, 1, 0, 0, 1, 0, 1, 0, 1, 0, 0, 1, 1, 0, 1, 0, 1, 0, 1, 1, 0, 0, 0, 1, 0, 0, 0, 0, 1, 0, 0, 1, 0, 1, 0, 1, 0, 0, 1, 1, 0, 1, 0, 1, 0, 1, 1, 0, 0, 0, 1, 0, 0, 0, 0, 1, 0, 0, 1, 0, 1, 0, 1, 0, 0, 1, 1, 0, 1, 0, 1, 0, 1, 1, 0, 0, 0, 1, 0, 0, 0, 0, 1, 0, 0, 1, 0, 1, 0, 1, 0, 0, 1, 1, 0, 1, 0, 1, 0, 1, 1, 0, 0, 0, 1, 0, 0, 0, 0, 1, 0, 0, 1, 0, 1, 0, 1, 0, 0, 1, 1, 0, 1, 0, 1, 0, 1, 1, 0, 0, 0, 1, 0, 0, 0, 0, 1, 0, 0, 1, 0, 1, 0, 1, 0, 0, 1, 1, 0, 1, 0, 1, 0, 1, 1, 0, 0, 0, 1, 0, 0, 0, 0, 1, 0, 0, 1, 0, 1, 0, 1, 0, 0, 1, 1, 0, 1, 0, 1, 0, 1, 1, 0, 0, 0, 1, 0, 0, 0, 0, 1, 0, 0, 1, 0, 1, 0, 1, 0, 0]\n"
     ]
    }
   ],
   "source": [
    "##############################################################################\n",
    "# 3.  Pair up mark/space values\n",
    "##############################################################################\n",
    "pairs = list(zip(pulses[0::2], pulses[1::2]))\n",
    "# skip first 7 pairs (pre-amble)\n",
    "#pairs = pairs[7:]\n",
    "bits = []\n",
    "collecting = False                # start AFTER pre-amble\n",
    "for mark, space in pairs:\n",
    "    mark_long  = mark  > threshold\n",
    "    space_long = space > threshold\n",
    "\n",
    "    # Classify the pair\n",
    "    if not mark_long and space_long:         # short–long  → 0\n",
    "        bit = 0\n",
    "    elif mark_long and not space_long:       # long–short  → 1\n",
    "        bit = 1\n",
    "    else:                                    # invalid pair (long–long, short–short)\n",
    "        if collecting:                       # already inside data -> frame ended\n",
    "            break\n",
    "        else:\n",
    "            continue                         # still in pre-amble; keep looking\n",
    "\n",
    "    collecting = True\n",
    "    bits.append(bit)\n",
    "\n",
    "print(f\"Bits collected: {len(bits)}\\n{bits}\")"
   ]
  },
  {
   "cell_type": "code",
   "execution_count": 31,
   "id": "af0e673f",
   "metadata": {},
   "outputs": [
    {
     "name": "stdout",
     "output_type": "stream",
     "text": [
      "\n",
      "────────── Decoded Frame ──────────\n",
      "Tx ID       : 0xAC4252D5\n",
      "Light       : ON\n",
      "Direction   : FWD\n",
      "Speed index : 1  (0=off, 1=low …)\n",
      "Checksum raw: [0, 0, 0, 0, 1, 0, 0, 1]\n"
     ]
    }
   ],
   "source": [
    "# 5.  Parse TR198A fields – adjust slices if your model differs\n",
    "if len(bits) < 45:\n",
    "    raise RuntimeError(\"Not enough bits decoded; tune threshold or gap logic.\")\n",
    "\n",
    "tx_id_bits  = bits[0:32]\n",
    "light_bit   = bits[32]\n",
    "dir_bit     = bits[33]              # 0 = forward, 1 = reverse\n",
    "speed_bits  = bits[34:37]           # 3-bit speed\n",
    "checksum    = bits[37:45]\n",
    "\n",
    "tx_id  = int(\"\".join(map(str, tx_id_bits)), 2)\n",
    "speed  = int(\"\".join(map(str, speed_bits )), 2)\n",
    "\n",
    "print(\"\\n────────── Decoded Frame ──────────\")\n",
    "print(f\"Tx ID       : 0x{tx_id:08X}\")\n",
    "print(f\"Light       : {'ON' if light_bit else 'OFF'}\")\n",
    "print(f\"Direction   : {'REV' if dir_bit else 'FWD'}\")\n",
    "print(f\"Speed index : {speed}  (0=off, 1=low …)\")\n",
    "print(f\"Checksum raw: {checksum}\")"
   ]
  }
 ],
 "metadata": {
  "kernelspec": {
   "display_name": ".venv",
   "language": "python",
   "name": "python3"
  },
  "language_info": {
   "codemirror_mode": {
    "name": "ipython",
    "version": 3
   },
   "file_extension": ".py",
   "mimetype": "text/x-python",
   "name": "python",
   "nbconvert_exporter": "python",
   "pygments_lexer": "ipython3",
   "version": "3.13.3"
  }
 },
 "nbformat": 4,
 "nbformat_minor": 5
}
